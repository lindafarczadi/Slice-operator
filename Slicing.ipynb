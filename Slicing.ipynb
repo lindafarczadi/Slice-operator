{
 "cells": [
  {
   "cell_type": "markdown",
   "metadata": {},
   "source": [
    "<h1><center> Python's slice notation </center></h1> "
   ]
  },
  {
   "cell_type": "markdown",
   "metadata": {},
   "source": [
    "The slice notation in Python is a fundamental concept when working with Python lists, Numpy arrays, pandas DataFrames, or any other iterable object. The syntax is extremely versatile and flexible but can prove difficult to decipher upon first glance. Let's begin by defining a Python list which we will use throughout as our example."
   ]
  },
  {
   "cell_type": "code",
   "execution_count": 1,
   "metadata": {},
   "outputs": [
    {
     "data": {
      "text/plain": [
       "[1, 2, 3, 4, 5, 6, 7, 8, 9, 10]"
      ]
     },
     "execution_count": 1,
     "metadata": {},
     "output_type": "execute_result"
    }
   ],
   "source": [
    "a = list(range(1,11))\n",
    "a"
   ]
  },
  {
   "cell_type": "markdown",
   "metadata": {},
   "source": [
    "## Preliminaries\n",
    "\n",
    "The elements of a Python list are always indexed starting at position `0`. In our list `a` the element `1` is at position `0`, the  element `2` is at position `1` and so on. We can access an element by giving its position inside a set of square brackets as follows"
   ]
  },
  {
   "cell_type": "code",
   "execution_count": 2,
   "metadata": {},
   "outputs": [
    {
     "data": {
      "text/plain": [
       "(1, 2, 7)"
      ]
     },
     "execution_count": 2,
     "metadata": {},
     "output_type": "execute_result"
    }
   ],
   "source": [
    "a[0], a[1], a[6]"
   ]
  },
  {
   "cell_type": "markdown",
   "metadata": {},
   "source": [
    "\n",
    "Elements can also be accessed using negative position values. A negative value just means that we start counting from the end of the list, instead of the beginning. The last element is always at position `-1`, the second last element at position `-2` and the first element of our list `a` is at position `-len(a)`. In other words, a position `k` between `0` and `len(a)-1` is equivalent to the position `k-len(a)`."
   ]
  },
  {
   "cell_type": "code",
   "execution_count": 3,
   "metadata": {},
   "outputs": [
    {
     "data": {
      "text/plain": [
       "(10, 7, 1)"
      ]
     },
     "execution_count": 3,
     "metadata": {},
     "output_type": "execute_result"
    }
   ],
   "source": [
    "a[-1], a[-4], a[-len(a)]"
   ]
  },
  {
   "cell_type": "markdown",
   "metadata": {},
   "source": [
    "\n",
    "Instead of specifying an integer value inside the square brackets we can also use the symbol `:` which means that we want to select **all** the elements of the list. So the command"
   ]
  },
  {
   "cell_type": "code",
   "execution_count": 4,
   "metadata": {},
   "outputs": [
    {
     "data": {
      "text/plain": [
       "[1, 2, 3, 4, 5, 6, 7, 8, 9, 10]"
      ]
     },
     "execution_count": 4,
     "metadata": {},
     "output_type": "execute_result"
    }
   ],
   "source": [
    "a[:]"
   ]
  },
  {
   "cell_type": "markdown",
   "metadata": {},
   "source": [
    "returns us the original list. Let's now consider the general syntax of the slice notation."
   ]
  },
  {
   "cell_type": "markdown",
   "metadata": {},
   "source": [
    "## General syntax\n",
    "\n",
    "```\n",
    "a[start:stop:step]\n",
    "```\n",
    "\n",
    "where\n",
    "* **start** is the first position that is selected\n",
    "* **stop** is the first position that is *not* selected\n",
    "* **step** is the step size of our selection\n",
    "\n",
    "Let's try an example"
   ]
  },
  {
   "cell_type": "code",
   "execution_count": 5,
   "metadata": {},
   "outputs": [
    {
     "data": {
      "text/plain": [
       "[4, 6]"
      ]
     },
     "execution_count": 5,
     "metadata": {},
     "output_type": "execute_result"
    }
   ],
   "source": [
    "a[3:7:2]"
   ]
  },
  {
   "cell_type": "markdown",
   "metadata": {},
   "source": [
    "Here we are selecting every second element of our list starting at position 3 (inclusive) and stopping at position 7 (exclusive).\n",
    "\n",
    "An important thing to note that is the `step` argument is optional and when omitted the default value is `1`. For example if we omit the step size in the command above"
   ]
  },
  {
   "cell_type": "code",
   "execution_count": 6,
   "metadata": {},
   "outputs": [
    {
     "data": {
      "text/plain": [
       "[4, 5, 6, 7]"
      ]
     },
     "execution_count": 6,
     "metadata": {},
     "output_type": "execute_result"
    }
   ],
   "source": [
    "a[3:7]"
   ]
  },
  {
   "cell_type": "markdown",
   "metadata": {},
   "source": [
    "then we just select every element from position 3 (inclusive) up to position 7 (exclusive). \n",
    "\n",
    "This fully defines the syntax for the slice notation. Below we consider some special cases."
   ]
  },
  {
   "cell_type": "markdown",
   "metadata": {},
   "source": [
    "### Special case: the `:` symbol\n",
    "\n",
    "We saw before that `a[:]` returns the entire list. We can also use the `:` symbol inside the slice notation. When used for the argument `start` it just means that we start the selecting with the very first element of the list. So `a[:stop:step]` is equivalent to `a[0:stop:step]`. Here is an example"
   ]
  },
  {
   "cell_type": "code",
   "execution_count": 7,
   "metadata": {},
   "outputs": [
    {
     "data": {
      "text/plain": [
       "[1, 2, 3, 4, 5, 6]"
      ]
     },
     "execution_count": 7,
     "metadata": {},
     "output_type": "execute_result"
    }
   ],
   "source": [
    "a[:6]"
   ]
  },
  {
   "cell_type": "markdown",
   "metadata": {},
   "source": [
    "Here we start selecting from the first element up to but exluding the element at position `6`. The step size is omitted so we use the default value of `1`.\n",
    "\n",
    "We can also use `:` for the `stop` argument. This means that we want to select all of the remaining elements in the list. So `a[start::step]` means that we select (with step size `step`) from position `start` all the way to the end of the list. Here is an example"
   ]
  },
  {
   "cell_type": "code",
   "execution_count": 8,
   "metadata": {},
   "outputs": [
    {
     "data": {
      "text/plain": [
       "[3, 5, 7, 9]"
      ]
     },
     "execution_count": 8,
     "metadata": {},
     "output_type": "execute_result"
    }
   ],
   "source": [
    "a[2::2]"
   ]
  },
  {
   "cell_type": "markdown",
   "metadata": {},
   "source": [
    "Here we start selecting from position `2`, and we select every other element all the way to the end of the list.\n",
    "\n",
    "Finally, We can also use `:` symbol for both the `start` and `stop` arguments simultaneously. We then obtain the command `a[::step]` which means that we select every element of the list with step size `step` starting at the beginning of the list all the way to the end. Here is an example"
   ]
  },
  {
   "cell_type": "code",
   "execution_count": 9,
   "metadata": {},
   "outputs": [
    {
     "data": {
      "text/plain": [
       "[1, 5, 9]"
      ]
     },
     "execution_count": 9,
     "metadata": {},
     "output_type": "execute_result"
    }
   ],
   "source": [
    "a[::4]"
   ]
  },
  {
   "cell_type": "markdown",
   "metadata": {},
   "source": [
    "**Question**: what does `a[::]` return? \n",
    "\n",
    "Here we have omitted the step size meaning that this is equivalent to `a[::1]` which selects every element of the list from the first to the last. Therefore this should return the entire list. Let's verify this"
   ]
  },
  {
   "cell_type": "code",
   "execution_count": 10,
   "metadata": {},
   "outputs": [
    {
     "data": {
      "text/plain": [
       "[1, 2, 3, 4, 5, 6, 7, 8, 9, 10]"
      ]
     },
     "execution_count": 10,
     "metadata": {},
     "output_type": "execute_result"
    }
   ],
   "source": [
    "a[::]"
   ]
  },
  {
   "cell_type": "markdown",
   "metadata": {},
   "source": [
    "### Special case: negative step size\n",
    "\n",
    "In all of the discussion above we are always traversing the list from the beginning to the end. However we can also traverse the list backwards from the end to the beginning. This is done using a negative step size. For a positive integer `k` a step size of `-k` just means that we select every `k`-th element going backwards from position `start` (inclusive) up to position `end` (exclusive). Let's look at an example"
   ]
  },
  {
   "cell_type": "code",
   "execution_count": 11,
   "metadata": {},
   "outputs": [
    {
     "data": {
      "text/plain": [
       "[6, 5, 4]"
      ]
     },
     "execution_count": 11,
     "metadata": {},
     "output_type": "execute_result"
    }
   ],
   "source": [
    "a[5:2:-1]"
   ]
  },
  {
   "cell_type": "markdown",
   "metadata": {},
   "source": [
    "Here we select every element starting at position `5` (inclusive) and going backwards up to position `2` (exclusive). That means that we select the elements at positions `5`, `4` and `3`. "
   ]
  },
  {
   "cell_type": "markdown",
   "metadata": {},
   "source": [
    "Note that whenever using a negative step size the position `start` has to occur **after** the position `end`. Sometimes it might be easier to interpret this type of syntax by using negative values for the positions. We already saw that the last element of the list is always at position `-1`, the second last at `-2` and the first at `-len(a)`. Therefore an equivalent way to write the command above would be"
   ]
  },
  {
   "cell_type": "code",
   "execution_count": 12,
   "metadata": {},
   "outputs": [
    {
     "data": {
      "text/plain": [
       "[6, 5, 4]"
      ]
     },
     "execution_count": 12,
     "metadata": {},
     "output_type": "execute_result"
    }
   ],
   "source": [
    "a[-5:-8:-1]"
   ]
  },
  {
   "cell_type": "markdown",
   "metadata": {},
   "source": [
    "**Question**: what does the command `a[::-1]` return?\n",
    "\n",
    "A step size of `-1` means that we are traversing the list backwards and returning every element between `start` and `end`. Since we have the `:` symbol for both `start` and `end` this just means that we traverse the entire list backwards. The result should be the list reversed. "
   ]
  },
  {
   "cell_type": "code",
   "execution_count": 13,
   "metadata": {},
   "outputs": [
    {
     "data": {
      "text/plain": [
       "[10, 9, 8, 7, 6, 5, 4, 3, 2, 1]"
      ]
     },
     "execution_count": 13,
     "metadata": {},
     "output_type": "execute_result"
    }
   ],
   "source": [
    "a[::-1]"
   ]
  }
 ],
 "metadata": {
  "kernelspec": {
   "display_name": "Python 3",
   "language": "python",
   "name": "python3"
  },
  "language_info": {
   "codemirror_mode": {
    "name": "ipython",
    "version": 3
   },
   "file_extension": ".py",
   "mimetype": "text/x-python",
   "name": "python",
   "nbconvert_exporter": "python",
   "pygments_lexer": "ipython3",
   "version": "3.6.2"
  }
 },
 "nbformat": 4,
 "nbformat_minor": 2
}
